{
 "cells": [
  {
   "cell_type": "markdown",
   "metadata": {},
   "source": [
    "# Data preprocessing and descriptive analysis"
   ]
  },
  {
   "cell_type": "code",
   "execution_count": 1,
   "metadata": {},
   "outputs": [],
   "source": [
    "# Libraries importation\n",
    "import nltk                                # Python library for NLP\n",
    "#from nltk.corpus import twitter_samples    # sample Twitter dataset from NLTK\n",
    "import matplotlib.pyplot as plt            # library for visualization\n",
    "import random \n",
    "import pandas as pd\n",
    "import numpy as np\n",
    "\n",
    "# from functools import reduce\n",
    "# from operator import add"
   ]
  },
  {
   "cell_type": "code",
   "execution_count": 2,
   "metadata": {},
   "outputs": [],
   "source": [
    "#! pip install pandas_profiling\n",
    "#from pandas_profiling import ProfileReport"
   ]
  },
  {
   "cell_type": "code",
   "execution_count": 3,
   "metadata": {},
   "outputs": [],
   "source": [
    "# Data loading\n",
    "Afghan_tweets = pd.read_csv('US-Afghan_war_tweets.csv', sep=',')"
   ]
  },
  {
   "cell_type": "code",
   "execution_count": 4,
   "metadata": {},
   "outputs": [
    {
     "name": "stdout",
     "output_type": "stream",
     "text": [
      "Shape:  (362566, 7)\n"
     ]
    },
    {
     "data": {
      "text/html": [
       "<div>\n",
       "<style scoped>\n",
       "    .dataframe tbody tr th:only-of-type {\n",
       "        vertical-align: middle;\n",
       "    }\n",
       "\n",
       "    .dataframe tbody tr th {\n",
       "        vertical-align: top;\n",
       "    }\n",
       "\n",
       "    .dataframe thead th {\n",
       "        text-align: right;\n",
       "    }\n",
       "</style>\n",
       "<table border=\"1\" class=\"dataframe\">\n",
       "  <thead>\n",
       "    <tr style=\"text-align: right;\">\n",
       "      <th></th>\n",
       "      <th>user_location</th>\n",
       "      <th>date</th>\n",
       "      <th>text</th>\n",
       "      <th>sentiment</th>\n",
       "      <th>polarity</th>\n",
       "      <th>hashtags</th>\n",
       "      <th>source</th>\n",
       "    </tr>\n",
       "  </thead>\n",
       "  <tbody>\n",
       "    <tr>\n",
       "      <th>0</th>\n",
       "      <td>NaN</td>\n",
       "      <td>8/19/2021 23:59</td>\n",
       "      <td>cant recall told troops afghanistan falsely ...</td>\n",
       "      <td>negative</td>\n",
       "      <td>-0.300000</td>\n",
       "      <td>['afghanistan']</td>\n",
       "      <td>twitter for iphone</td>\n",
       "    </tr>\n",
       "    <tr>\n",
       "      <th>1</th>\n",
       "      <td>washington, dc</td>\n",
       "      <td>8/19/2021 23:59</td>\n",
       "      <td>shocker afghanistan taliban carrying doorto do...</td>\n",
       "      <td>neutral</td>\n",
       "      <td>0.000000</td>\n",
       "      <td>['afghanistan']</td>\n",
       "      <td>twitter for ipad</td>\n",
       "    </tr>\n",
       "    <tr>\n",
       "      <th>2</th>\n",
       "      <td>NaN</td>\n",
       "      <td>8/19/2021 23:59</td>\n",
       "      <td>drop bass bombs big homie afghanistan talibans</td>\n",
       "      <td>negative</td>\n",
       "      <td>-0.075000</td>\n",
       "      <td>['afghanistan', 'talibans']</td>\n",
       "      <td>twitter for iphone</td>\n",
       "    </tr>\n",
       "    <tr>\n",
       "      <th>3</th>\n",
       "      <td>midnapore, west bengal, uk outreach</td>\n",
       "      <td>8/19/2021 23:59</td>\n",
       "      <td>burqa prices risen markets afghanistans provin...</td>\n",
       "      <td>negative</td>\n",
       "      <td>-0.250000</td>\n",
       "      <td>['afghanistan']</td>\n",
       "      <td>twitter web app</td>\n",
       "    </tr>\n",
       "    <tr>\n",
       "      <th>4</th>\n",
       "      <td>york, england</td>\n",
       "      <td>8/19/2021 23:59</td>\n",
       "      <td>uk carved afghanistan s heroin minorities mili...</td>\n",
       "      <td>neutral</td>\n",
       "      <td>0.000000</td>\n",
       "      <td>['afghanistan']</td>\n",
       "      <td>twitter for ipad</td>\n",
       "    </tr>\n",
       "    <tr>\n",
       "      <th>5</th>\n",
       "      <td>new delhi</td>\n",
       "      <td>8/19/2021 23:59</td>\n",
       "      <td>afghanistan times changed pictures afghan wome...</td>\n",
       "      <td>positive</td>\n",
       "      <td>0.500000</td>\n",
       "      <td>['afghanistan']</td>\n",
       "      <td>twitter for iphone</td>\n",
       "    </tr>\n",
       "    <tr>\n",
       "      <th>6</th>\n",
       "      <td>washington, dc</td>\n",
       "      <td>8/19/2021 23:59</td>\n",
       "      <td>pakistan closed borders refugees afghanistan...</td>\n",
       "      <td>negative</td>\n",
       "      <td>-0.100000</td>\n",
       "      <td>['pakistan', 'refugees', 'afghanistan']</td>\n",
       "      <td>twitter web app</td>\n",
       "    </tr>\n",
       "    <tr>\n",
       "      <th>7</th>\n",
       "      <td>dallas/fort worth</td>\n",
       "      <td>8/19/2021 23:59</td>\n",
       "      <td>rather drawn political blame game believe far ...</td>\n",
       "      <td>positive</td>\n",
       "      <td>0.025000</td>\n",
       "      <td>NaN</td>\n",
       "      <td>twitter for iphone</td>\n",
       "    </tr>\n",
       "    <tr>\n",
       "      <th>8</th>\n",
       "      <td>world</td>\n",
       "      <td>8/19/2021 23:59</td>\n",
       "      <td>admit usarmy right invade httpstcojppyqqgm</td>\n",
       "      <td>positive</td>\n",
       "      <td>0.285714</td>\n",
       "      <td>['usarmy']</td>\n",
       "      <td>twitter for android</td>\n",
       "    </tr>\n",
       "    <tr>\n",
       "      <th>9</th>\n",
       "      <td>ohio</td>\n",
       "      <td>8/19/2021 23:59</td>\n",
       "      <td>thing think current   administration terribl...</td>\n",
       "      <td>negative</td>\n",
       "      <td>-0.500000</td>\n",
       "      <td>NaN</td>\n",
       "      <td>twitter web app</td>\n",
       "    </tr>\n",
       "  </tbody>\n",
       "</table>\n",
       "</div>"
      ],
      "text/plain": [
       "                          user_location             date  \\\n",
       "0                                   NaN  8/19/2021 23:59   \n",
       "1                        washington, dc  8/19/2021 23:59   \n",
       "2                                   NaN  8/19/2021 23:59   \n",
       "3  midnapore, west bengal, uk outreach   8/19/2021 23:59   \n",
       "4                         york, england  8/19/2021 23:59   \n",
       "5                             new delhi  8/19/2021 23:59   \n",
       "6                        washington, dc  8/19/2021 23:59   \n",
       "7                     dallas/fort worth  8/19/2021 23:59   \n",
       "8                                 world  8/19/2021 23:59   \n",
       "9                                  ohio  8/19/2021 23:59   \n",
       "\n",
       "                                                text sentiment  polarity  \\\n",
       "0    cant recall told troops afghanistan falsely ...  negative -0.300000   \n",
       "1  shocker afghanistan taliban carrying doorto do...   neutral  0.000000   \n",
       "2     drop bass bombs big homie afghanistan talibans  negative -0.075000   \n",
       "3  burqa prices risen markets afghanistans provin...  negative -0.250000   \n",
       "4  uk carved afghanistan s heroin minorities mili...   neutral  0.000000   \n",
       "5  afghanistan times changed pictures afghan wome...  positive  0.500000   \n",
       "6    pakistan closed borders refugees afghanistan...  negative -0.100000   \n",
       "7  rather drawn political blame game believe far ...  positive  0.025000   \n",
       "8         admit usarmy right invade httpstcojppyqqgm  positive  0.285714   \n",
       "9    thing think current   administration terribl...  negative -0.500000   \n",
       "\n",
       "                                  hashtags               source  \n",
       "0                          ['afghanistan']   twitter for iphone  \n",
       "1                          ['afghanistan']     twitter for ipad  \n",
       "2              ['afghanistan', 'talibans']   twitter for iphone  \n",
       "3                          ['afghanistan']      twitter web app  \n",
       "4                          ['afghanistan']     twitter for ipad  \n",
       "5                          ['afghanistan']   twitter for iphone  \n",
       "6  ['pakistan', 'refugees', 'afghanistan']      twitter web app  \n",
       "7                                      NaN   twitter for iphone  \n",
       "8                               ['usarmy']  twitter for android  \n",
       "9                                      NaN      twitter web app  "
      ]
     },
     "execution_count": 4,
     "metadata": {},
     "output_type": "execute_result"
    }
   ],
   "source": [
    "print(\"Shape:  {0}\".format(Afghan_tweets.shape))\n",
    "Afghan_tweets.head(10)"
   ]
  },
  {
   "cell_type": "code",
   "execution_count": 5,
   "metadata": {},
   "outputs": [
    {
     "name": "stdout",
     "output_type": "stream",
     "text": [
      "359904\n"
     ]
    }
   ],
   "source": [
    "# Number of unique texts\n",
    "print(len(Afghan_tweets.text.unique()))"
   ]
  },
  {
   "cell_type": "code",
   "execution_count": 6,
   "metadata": {},
   "outputs": [
    {
     "data": {
      "text/html": [
       "<div>\n",
       "<style scoped>\n",
       "    .dataframe tbody tr th:only-of-type {\n",
       "        vertical-align: middle;\n",
       "    }\n",
       "\n",
       "    .dataframe tbody tr th {\n",
       "        vertical-align: top;\n",
       "    }\n",
       "\n",
       "    .dataframe thead th {\n",
       "        text-align: right;\n",
       "    }\n",
       "</style>\n",
       "<table border=\"1\" class=\"dataframe\">\n",
       "  <thead>\n",
       "    <tr style=\"text-align: right;\">\n",
       "      <th></th>\n",
       "      <th>user_location</th>\n",
       "      <th>date</th>\n",
       "      <th>text</th>\n",
       "      <th>sentiment</th>\n",
       "      <th>polarity</th>\n",
       "      <th>hashtags</th>\n",
       "      <th>source</th>\n",
       "    </tr>\n",
       "  </thead>\n",
       "  <tbody>\n",
       "    <tr>\n",
       "      <th>11602</th>\n",
       "      <td>victoria, australia</td>\n",
       "      <td>8/19/2021 16:05</td>\n",
       "      <td>shows desperate peterdutton getting auspol a...</td>\n",
       "      <td>negative</td>\n",
       "      <td>-0.600</td>\n",
       "      <td>['peterdutton', 'auspol', 'afghanistan', 'morr...</td>\n",
       "      <td>twitter for iphone</td>\n",
       "    </tr>\n",
       "    <tr>\n",
       "      <th>11614</th>\n",
       "      <td>victoria, australia</td>\n",
       "      <td>8/19/2021 16:05</td>\n",
       "      <td>shows desperate peterdutton getting auspol a...</td>\n",
       "      <td>negative</td>\n",
       "      <td>-0.600</td>\n",
       "      <td>['peterdutton', 'auspol', 'afghanistan', 'morr...</td>\n",
       "      <td>twitter for iphone</td>\n",
       "    </tr>\n",
       "    <tr>\n",
       "      <th>20513</th>\n",
       "      <td>india, delhi, malerkotla</td>\n",
       "      <td>8/19/2021 11:31</td>\n",
       "      <td>best moments pride people afghanistan  jai h...</td>\n",
       "      <td>positive</td>\n",
       "      <td>1.000</td>\n",
       "      <td>['afghanistan', 'afghanistan']</td>\n",
       "      <td>twitter for android</td>\n",
       "    </tr>\n",
       "    <tr>\n",
       "      <th>20521</th>\n",
       "      <td>india, delhi, malerkotla</td>\n",
       "      <td>8/19/2021 11:31</td>\n",
       "      <td>best moments pride people afghanistan  jai h...</td>\n",
       "      <td>positive</td>\n",
       "      <td>1.000</td>\n",
       "      <td>['afghanistan', 'afghanistan']</td>\n",
       "      <td>twitter for android</td>\n",
       "    </tr>\n",
       "    <tr>\n",
       "      <th>32683</th>\n",
       "      <td>NaN</td>\n",
       "      <td>8/18/2021 18:45</td>\n",
       "      <td>heartbreaking afghanwomen httpstcoyugzzxfy</td>\n",
       "      <td>neutral</td>\n",
       "      <td>0.000</td>\n",
       "      <td>['afghanwomen']</td>\n",
       "      <td>twitter for android</td>\n",
       "    </tr>\n",
       "    <tr>\n",
       "      <th>...</th>\n",
       "      <td>...</td>\n",
       "      <td>...</td>\n",
       "      <td>...</td>\n",
       "      <td>...</td>\n",
       "      <td>...</td>\n",
       "      <td>...</td>\n",
       "      <td>...</td>\n",
       "    </tr>\n",
       "    <tr>\n",
       "      <th>332688</th>\n",
       "      <td>punjab, pakistan</td>\n",
       "      <td>8/15/2021 4:36</td>\n",
       "      <td>fall kabul fall foreign policy biden adminis...</td>\n",
       "      <td>negative</td>\n",
       "      <td>-0.125</td>\n",
       "      <td>['kabul', 'biden']</td>\n",
       "      <td>twitter web app</td>\n",
       "    </tr>\n",
       "    <tr>\n",
       "      <th>333384</th>\n",
       "      <td>new delhi, india</td>\n",
       "      <td>8/14/2021 23:02</td>\n",
       "      <td>kabul fallen taliban killing political leade...</td>\n",
       "      <td>neutral</td>\n",
       "      <td>0.000</td>\n",
       "      <td>['kabul', 'afghanistan']</td>\n",
       "      <td>twitter web app</td>\n",
       "    </tr>\n",
       "    <tr>\n",
       "      <th>333385</th>\n",
       "      <td>new delhi, india</td>\n",
       "      <td>8/14/2021 23:02</td>\n",
       "      <td>kabul fallen taliban killing political leade...</td>\n",
       "      <td>neutral</td>\n",
       "      <td>0.000</td>\n",
       "      <td>['kabul', 'afghanistan']</td>\n",
       "      <td>twitter web app</td>\n",
       "    </tr>\n",
       "    <tr>\n",
       "      <th>350887</th>\n",
       "      <td>new delhi, india</td>\n",
       "      <td>8/16/2021 12:33</td>\n",
       "      <td>help save us afghanwomen</td>\n",
       "      <td>neutral</td>\n",
       "      <td>0.000</td>\n",
       "      <td>['afghanwomen']</td>\n",
       "      <td>twitter for iphone</td>\n",
       "    </tr>\n",
       "    <tr>\n",
       "      <th>350889</th>\n",
       "      <td>new delhi, india</td>\n",
       "      <td>8/16/2021 12:33</td>\n",
       "      <td>help save us afghanwomen</td>\n",
       "      <td>neutral</td>\n",
       "      <td>0.000</td>\n",
       "      <td>['afghanwomen']</td>\n",
       "      <td>twitter for iphone</td>\n",
       "    </tr>\n",
       "  </tbody>\n",
       "</table>\n",
       "<p>1389 rows × 7 columns</p>\n",
       "</div>"
      ],
      "text/plain": [
       "                   user_location             date  \\\n",
       "11602        victoria, australia  8/19/2021 16:05   \n",
       "11614        victoria, australia  8/19/2021 16:05   \n",
       "20513   india, delhi, malerkotla  8/19/2021 11:31   \n",
       "20521   india, delhi, malerkotla  8/19/2021 11:31   \n",
       "32683                        NaN  8/18/2021 18:45   \n",
       "...                          ...              ...   \n",
       "332688          punjab, pakistan   8/15/2021 4:36   \n",
       "333384          new delhi, india  8/14/2021 23:02   \n",
       "333385          new delhi, india  8/14/2021 23:02   \n",
       "350887          new delhi, india  8/16/2021 12:33   \n",
       "350889          new delhi, india  8/16/2021 12:33   \n",
       "\n",
       "                                                     text sentiment  polarity  \\\n",
       "11602     shows desperate peterdutton getting auspol a...  negative    -0.600   \n",
       "11614     shows desperate peterdutton getting auspol a...  negative    -0.600   \n",
       "20513     best moments pride people afghanistan  jai h...  positive     1.000   \n",
       "20521     best moments pride people afghanistan  jai h...  positive     1.000   \n",
       "32683          heartbreaking afghanwomen httpstcoyugzzxfy   neutral     0.000   \n",
       "...                                                   ...       ...       ...   \n",
       "332688    fall kabul fall foreign policy biden adminis...  negative    -0.125   \n",
       "333384    kabul fallen taliban killing political leade...   neutral     0.000   \n",
       "333385    kabul fallen taliban killing political leade...   neutral     0.000   \n",
       "350887                           help save us afghanwomen   neutral     0.000   \n",
       "350889                           help save us afghanwomen   neutral     0.000   \n",
       "\n",
       "                                                 hashtags               source  \n",
       "11602   ['peterdutton', 'auspol', 'afghanistan', 'morr...   twitter for iphone  \n",
       "11614   ['peterdutton', 'auspol', 'afghanistan', 'morr...   twitter for iphone  \n",
       "20513                      ['afghanistan', 'afghanistan']  twitter for android  \n",
       "20521                      ['afghanistan', 'afghanistan']  twitter for android  \n",
       "32683                                     ['afghanwomen']  twitter for android  \n",
       "...                                                   ...                  ...  \n",
       "332688                                 ['kabul', 'biden']      twitter web app  \n",
       "333384                           ['kabul', 'afghanistan']      twitter web app  \n",
       "333385                           ['kabul', 'afghanistan']      twitter web app  \n",
       "350887                                    ['afghanwomen']   twitter for iphone  \n",
       "350889                                    ['afghanwomen']   twitter for iphone  \n",
       "\n",
       "[1389 rows x 7 columns]"
      ]
     },
     "execution_count": 6,
     "metadata": {},
     "output_type": "execute_result"
    }
   ],
   "source": [
    "# Checking for duplicated tweets\n",
    "mask_duplicated = Afghan_tweets.duplicated(keep=False)\n",
    "Afghan_tweets[mask_duplicated]"
   ]
  },
  {
   "cell_type": "code",
   "execution_count": 7,
   "metadata": {},
   "outputs": [
    {
     "name": "stdout",
     "output_type": "stream",
     "text": [
      "The dataset shape is:  (361544, 7)\n",
      "Number of unique texts:  359904\n"
     ]
    }
   ],
   "source": [
    "# Drop duplicates\n",
    "Afghan_tweets = Afghan_tweets.drop_duplicates().reset_index(drop=True)\n",
    "# Dataset shape\n",
    "print(\"The dataset shape is: \",Afghan_tweets.shape)\n",
    "# Number of unique texts\n",
    "print(\"Number of unique texts: \",len(Afghan_tweets.text.unique()))"
   ]
  },
  {
   "cell_type": "code",
   "execution_count": 8,
   "metadata": {},
   "outputs": [
    {
     "data": {
      "text/html": [
       "<div>\n",
       "<style scoped>\n",
       "    .dataframe tbody tr th:only-of-type {\n",
       "        vertical-align: middle;\n",
       "    }\n",
       "\n",
       "    .dataframe tbody tr th {\n",
       "        vertical-align: top;\n",
       "    }\n",
       "\n",
       "    .dataframe thead th {\n",
       "        text-align: right;\n",
       "    }\n",
       "</style>\n",
       "<table border=\"1\" class=\"dataframe\">\n",
       "  <thead>\n",
       "    <tr style=\"text-align: right;\">\n",
       "      <th></th>\n",
       "      <th>user_location</th>\n",
       "      <th>date</th>\n",
       "      <th>text</th>\n",
       "      <th>sentiment</th>\n",
       "      <th>polarity</th>\n",
       "      <th>hashtags</th>\n",
       "      <th>source</th>\n",
       "    </tr>\n",
       "  </thead>\n",
       "  <tbody>\n",
       "    <tr>\n",
       "      <th>42108</th>\n",
       "      <td>blainville, quãâ©bec</td>\n",
       "      <td>8/18/2021 16:49</td>\n",
       "      <td>al jazeera forces fire tear gas rubber bullets...</td>\n",
       "      <td>positive</td>\n",
       "      <td>0.214286</td>\n",
       "      <td>['kabul', 'afghanistan']</td>\n",
       "      <td>twitter for iphone</td>\n",
       "    </tr>\n",
       "    <tr>\n",
       "      <th>42112</th>\n",
       "      <td>us</td>\n",
       "      <td>8/18/2021 16:49</td>\n",
       "      <td>al jazeera forces fire tear gas rubber bullets...</td>\n",
       "      <td>positive</td>\n",
       "      <td>0.214286</td>\n",
       "      <td>['kabul', 'afghanistan']</td>\n",
       "      <td>twitter for iphone</td>\n",
       "    </tr>\n",
       "    <tr>\n",
       "      <th>214421</th>\n",
       "      <td>northwest indiana</td>\n",
       "      <td>8/16/2021 20:18</td>\n",
       "      <td>i pass responsibility fifth president   afghan...</td>\n",
       "      <td>neutral</td>\n",
       "      <td>0.000000</td>\n",
       "      <td>['afghanistan']</td>\n",
       "      <td>twitter for iphone</td>\n",
       "    </tr>\n",
       "    <tr>\n",
       "      <th>214532</th>\n",
       "      <td>new york, ny</td>\n",
       "      <td>8/16/2021 20:18</td>\n",
       "      <td>i pass responsibility fifth president   afghan...</td>\n",
       "      <td>neutral</td>\n",
       "      <td>0.000000</td>\n",
       "      <td>['afghanistan']</td>\n",
       "      <td>twitter for iphone</td>\n",
       "    </tr>\n",
       "    <tr>\n",
       "      <th>227200</th>\n",
       "      <td>barrie, ontario</td>\n",
       "      <td>8/16/2021 17:46</td>\n",
       "      <td>pray afghanistan</td>\n",
       "      <td>neutral</td>\n",
       "      <td>0.000000</td>\n",
       "      <td>['afghanistan']</td>\n",
       "      <td>twitter for android</td>\n",
       "    </tr>\n",
       "    <tr>\n",
       "      <th>227205</th>\n",
       "      <td>anxiety cage</td>\n",
       "      <td>8/16/2021 17:46</td>\n",
       "      <td>pray afghanistan</td>\n",
       "      <td>neutral</td>\n",
       "      <td>0.000000</td>\n",
       "      <td>['afghanistan']</td>\n",
       "      <td>twitter for iphone</td>\n",
       "    </tr>\n",
       "    <tr>\n",
       "      <th>296389</th>\n",
       "      <td>chittagong, bangladesh</td>\n",
       "      <td>8/15/2021 22:07</td>\n",
       "      <td>game finish beat called super power kabul af...</td>\n",
       "      <td>negative</td>\n",
       "      <td>-0.033333</td>\n",
       "      <td>['kabul', 'afghanistan']</td>\n",
       "      <td>twitter for android</td>\n",
       "    </tr>\n",
       "    <tr>\n",
       "      <th>296403</th>\n",
       "      <td>jaipur, india</td>\n",
       "      <td>8/15/2021 22:07</td>\n",
       "      <td>game finish beat called super power kabul af...</td>\n",
       "      <td>negative</td>\n",
       "      <td>-0.033333</td>\n",
       "      <td>['kabul', 'afghanistan']</td>\n",
       "      <td>twitter for iphone</td>\n",
       "    </tr>\n",
       "  </tbody>\n",
       "</table>\n",
       "</div>"
      ],
      "text/plain": [
       "                 user_location             date  \\\n",
       "42108    blainville, quãâ©bec  8/18/2021 16:49   \n",
       "42112                       us  8/18/2021 16:49   \n",
       "214421       northwest indiana  8/16/2021 20:18   \n",
       "214532            new york, ny  8/16/2021 20:18   \n",
       "227200         barrie, ontario  8/16/2021 17:46   \n",
       "227205            anxiety cage  8/16/2021 17:46   \n",
       "296389  chittagong, bangladesh  8/15/2021 22:07   \n",
       "296403           jaipur, india  8/15/2021 22:07   \n",
       "\n",
       "                                                     text sentiment  polarity  \\\n",
       "42108   al jazeera forces fire tear gas rubber bullets...  positive  0.214286   \n",
       "42112   al jazeera forces fire tear gas rubber bullets...  positive  0.214286   \n",
       "214421  i pass responsibility fifth president   afghan...   neutral  0.000000   \n",
       "214532  i pass responsibility fifth president   afghan...   neutral  0.000000   \n",
       "227200                                  pray afghanistan    neutral  0.000000   \n",
       "227205                                  pray afghanistan    neutral  0.000000   \n",
       "296389    game finish beat called super power kabul af...  negative -0.033333   \n",
       "296403    game finish beat called super power kabul af...  negative -0.033333   \n",
       "\n",
       "                        hashtags               source  \n",
       "42108   ['kabul', 'afghanistan']   twitter for iphone  \n",
       "42112   ['kabul', 'afghanistan']   twitter for iphone  \n",
       "214421           ['afghanistan']   twitter for iphone  \n",
       "214532           ['afghanistan']   twitter for iphone  \n",
       "227200           ['afghanistan']  twitter for android  \n",
       "227205           ['afghanistan']   twitter for iphone  \n",
       "296389  ['kabul', 'afghanistan']  twitter for android  \n",
       "296403  ['kabul', 'afghanistan']   twitter for iphone  "
      ]
     },
     "execution_count": 8,
     "metadata": {},
     "output_type": "execute_result"
    }
   ],
   "source": [
    "# Checking for possible duplicated texts\n",
    "mask_duplicated = Afghan_tweets[['text','date','hashtags']].duplicated(keep=False)\n",
    "Afghan_tweets[mask_duplicated]"
   ]
  },
  {
   "cell_type": "code",
   "execution_count": 9,
   "metadata": {},
   "outputs": [
    {
     "name": "stdout",
     "output_type": "stream",
     "text": [
      "The dataset shape is:  (361536, 7)\n"
     ]
    }
   ],
   "source": [
    "# Drop duplicates\n",
    "Afghan_tweets = Afghan_tweets[[not condition for condition in mask_duplicated]]\n",
    "# Dataset shape\n",
    "print(\"The dataset shape is: \",Afghan_tweets.shape)"
   ]
  },
  {
   "cell_type": "code",
   "execution_count": 10,
   "metadata": {},
   "outputs": [
    {
     "name": "stdout",
     "output_type": "stream",
     "text": [
      "The perc. of empty values\n",
      "user_location : 27.7007 %\n",
      "date : 0.00028 %\n",
      "text : 0.00028 %\n",
      "sentiment : 0.0 %\n",
      "polarity : 0.0 %\n",
      "hashtags : 23.88725 %\n",
      "source : 0.00111 %\n"
     ]
    }
   ],
   "source": [
    "# Missing values\n",
    "print('The perc. of empty values')\n",
    "for column_name in Afghan_tweets:\n",
    "    percentage_na = Afghan_tweets[column_name].isna().mean() * 100\n",
    "    print(f'{column_name} : {np.round(percentage_na,5)} %')"
   ]
  },
  {
   "cell_type": "code",
   "execution_count": 11,
   "metadata": {},
   "outputs": [],
   "source": [
    "# Drop some rows with missing values\n",
    "# identify the rows with NaN in date and text\n",
    "mask_date_text_na = (\n",
    "    Afghan_tweets.date.isna().values \n",
    "    | Afghan_tweets.text.isna().values\n",
    ")\n",
    "Afghan_tweets = Afghan_tweets[~mask_date_text_na].reset_index(drop=True)"
   ]
  },
  {
   "cell_type": "code",
   "execution_count": 12,
   "metadata": {},
   "outputs": [
    {
     "data": {
      "image/png": "[encoded data removed]",
      "text/plain": [
       "<Figure size 432x288 with 1 Axes>"
      ]
     },
     "metadata": {
      "needs_background": "light"
     },
     "output_type": "display_data"
    }
   ],
   "source": [
    "# Text lenght distribution\n",
    "Afghan_tweets['text'].dropna().apply(len).hist(bins=40)\n",
    "plt.show()"
   ]
  },
  {
   "cell_type": "code",
   "execution_count": 13,
   "metadata": {},
   "outputs": [
    {
     "data": {
      "text/plain": [
       "sentiment\n",
       "negative    [[AxesSubplot(0.125,0.125;0.775x0.755)]]\n",
       "neutral     [[AxesSubplot(0.125,0.125;0.775x0.755)]]\n",
       "positive    [[AxesSubplot(0.125,0.125;0.775x0.755)]]\n",
       "dtype: object"
      ]
     },
     "execution_count": 13,
     "metadata": {},
     "output_type": "execute_result"
    },
    {
     "data": {
      "image/png": "[encoded data removed]",
      "text/plain": [
       "<Figure size 432x288 with 1 Axes>"
      ]
     },
     "metadata": {
      "needs_background": "light"
     },
     "output_type": "display_data"
    },
    {
     "data": {
      "image/png": "[encoded data removed]",
      "text/plain": [
       "<Figure size 432x288 with 1 Axes>"
      ]
     },
     "metadata": {
      "needs_background": "light"
     },
     "output_type": "display_data"
    },
    {
     "data": {
      "image/png": "[encoded data removed]",
      "text/plain": [
       "<Figure size 432x288 with 1 Axes>"
      ]
     },
     "metadata": {
      "needs_background": "light"
     },
     "output_type": "display_data"
    }
   ],
   "source": [
    "Afghan_tweets.groupby(Afghan_tweets.sentiment).hist()"
   ]
  },
  {
   "cell_type": "code",
   "execution_count": 14,
   "metadata": {},
   "outputs": [
    {
     "data": {
      "image/png": "[encoded data removed]",
      "text/plain": [
       "<Figure size 432x288 with 1 Axes>"
      ]
     },
     "metadata": {
      "needs_background": "light"
     },
     "output_type": "display_data"
    }
   ],
   "source": [
    "Afghan_tweets.sentiment.hist()\n",
    "plt.show()"
   ]
  },
  {
   "cell_type": "code",
   "execution_count": 15,
   "metadata": {},
   "outputs": [],
   "source": [
    "# profile = ProfileReport(df, title=\"Sentiment analysis\", html={\"style\": {\"full_width\": True}})\n",
    "# profile.to_notebook_iframe()"
   ]
  },
  {
   "cell_type": "code",
   "execution_count": 16,
   "metadata": {},
   "outputs": [
    {
     "data": {
      "text/html": [
       "<div>\n",
       "<style scoped>\n",
       "    .dataframe tbody tr th:only-of-type {\n",
       "        vertical-align: middle;\n",
       "    }\n",
       "\n",
       "    .dataframe tbody tr th {\n",
       "        vertical-align: top;\n",
       "    }\n",
       "\n",
       "    .dataframe thead th {\n",
       "        text-align: right;\n",
       "    }\n",
       "</style>\n",
       "<table border=\"1\" class=\"dataframe\">\n",
       "  <thead>\n",
       "    <tr style=\"text-align: right;\">\n",
       "      <th></th>\n",
       "      <th>user_location</th>\n",
       "      <th>date</th>\n",
       "      <th>text</th>\n",
       "      <th>sentiment</th>\n",
       "      <th>polarity</th>\n",
       "      <th>hashtags</th>\n",
       "      <th>source</th>\n",
       "    </tr>\n",
       "  </thead>\n",
       "  <tbody>\n",
       "    <tr>\n",
       "      <th>270516</th>\n",
       "      <td>1/22/2010 14:01</td>\n",
       "      <td>['afghanistan']</td>\n",
       "      <td>tweeted times</td>\n",
       "      <td>neutral</td>\n",
       "      <td>0.0</td>\n",
       "      <td>FALSE</td>\n",
       "      <td>NaN</td>\n",
       "    </tr>\n",
       "    <tr>\n",
       "      <th>134668</th>\n",
       "      <td>4/5/2010 13:21</td>\n",
       "      <td>['afghanistan']</td>\n",
       "      <td>twitter android</td>\n",
       "      <td>negative</td>\n",
       "      <td>0.0</td>\n",
       "      <td>FALSE</td>\n",
       "      <td>NaN</td>\n",
       "    </tr>\n",
       "    <tr>\n",
       "      <th>23069</th>\n",
       "      <td>leeds</td>\n",
       "      <td>8/19/2021 9:59</td>\n",
       "      <td>knew taliban start people shoot kabul looters ...</td>\n",
       "      <td>neutral</td>\n",
       "      <td>0.0</td>\n",
       "      <td>NaN</td>\n",
       "      <td>twitter for iphone</td>\n",
       "    </tr>\n",
       "    <tr>\n",
       "      <th>23081</th>\n",
       "      <td>nairobi, kenya</td>\n",
       "      <td>8/19/2021 9:59</td>\n",
       "      <td>julian assange speaking  the goal use afghanis...</td>\n",
       "      <td>neutral</td>\n",
       "      <td>0.0</td>\n",
       "      <td>NaN</td>\n",
       "      <td>twitter for android</td>\n",
       "    </tr>\n",
       "    <tr>\n",
       "      <th>39023</th>\n",
       "      <td>pune, india</td>\n",
       "      <td>8/19/2021 9:59</td>\n",
       "      <td>guess airport  picture looks like pune airport...</td>\n",
       "      <td>neutral</td>\n",
       "      <td>0.0</td>\n",
       "      <td>['airport', 'pune', 'kabul']</td>\n",
       "      <td>tweetdeck</td>\n",
       "    </tr>\n",
       "    <tr>\n",
       "      <th>...</th>\n",
       "      <td>...</td>\n",
       "      <td>...</td>\n",
       "      <td>...</td>\n",
       "      <td>...</td>\n",
       "      <td>...</td>\n",
       "      <td>...</td>\n",
       "      <td>...</td>\n",
       "    </tr>\n",
       "    <tr>\n",
       "      <th>358198</th>\n",
       "      <td>karachi, pakistan</td>\n",
       "      <td>8/11/2021 0:09</td>\n",
       "      <td>today column afghan people us b bombing writte...</td>\n",
       "      <td>neutral</td>\n",
       "      <td>0.0</td>\n",
       "      <td>['afghan', 'us', 'b52']</td>\n",
       "      <td>twitter for android</td>\n",
       "    </tr>\n",
       "    <tr>\n",
       "      <th>358199</th>\n",
       "      <td>kanata</td>\n",
       "      <td>8/11/2021 0:08</td>\n",
       "      <td>taliban seizes eighth afghan provincial capita...</td>\n",
       "      <td>negative</td>\n",
       "      <td>-0.3</td>\n",
       "      <td>['afghan', 'war']</td>\n",
       "      <td>twitter for android</td>\n",
       "    </tr>\n",
       "    <tr>\n",
       "      <th>201151</th>\n",
       "      <td>karachi, pakistan</td>\n",
       "      <td>8/11/2021 0:06</td>\n",
       "      <td>look closely negotiations agreements talib...</td>\n",
       "      <td>negative</td>\n",
       "      <td>0.0</td>\n",
       "      <td>NaN</td>\n",
       "      <td>twitter for android</td>\n",
       "    </tr>\n",
       "    <tr>\n",
       "      <th>201152</th>\n",
       "      <td>luton, england</td>\n",
       "      <td>8/11/2021 0:04</td>\n",
       "      <td>americans negotiated taliban tapi pipeline...</td>\n",
       "      <td>positive</td>\n",
       "      <td>0.2</td>\n",
       "      <td>['taliban']</td>\n",
       "      <td>twitter for android</td>\n",
       "    </tr>\n",
       "    <tr>\n",
       "      <th>201153</th>\n",
       "      <td>ottawa, ontario</td>\n",
       "      <td>8/11/2021 0:02</td>\n",
       "      <td>httpstcoyiibafh</td>\n",
       "      <td>negative</td>\n",
       "      <td>0.0</td>\n",
       "      <td>NaN</td>\n",
       "      <td>twitter web app</td>\n",
       "    </tr>\n",
       "  </tbody>\n",
       "</table>\n",
       "<p>361535 rows × 7 columns</p>\n",
       "</div>"
      ],
      "text/plain": [
       "            user_location             date  \\\n",
       "270516    1/22/2010 14:01  ['afghanistan']   \n",
       "134668     4/5/2010 13:21  ['afghanistan']   \n",
       "23069               leeds   8/19/2021 9:59   \n",
       "23081      nairobi, kenya   8/19/2021 9:59   \n",
       "39023         pune, india   8/19/2021 9:59   \n",
       "...                   ...              ...   \n",
       "358198  karachi, pakistan   8/11/2021 0:09   \n",
       "358199             kanata   8/11/2021 0:08   \n",
       "201151  karachi, pakistan   8/11/2021 0:06   \n",
       "201152     luton, england   8/11/2021 0:04   \n",
       "201153    ottawa, ontario   8/11/2021 0:02   \n",
       "\n",
       "                                                     text sentiment  polarity  \\\n",
       "270516                                      tweeted times   neutral       0.0   \n",
       "134668                                    twitter android  negative       0.0   \n",
       "23069   knew taliban start people shoot kabul looters ...   neutral       0.0   \n",
       "23081   julian assange speaking  the goal use afghanis...   neutral       0.0   \n",
       "39023   guess airport  picture looks like pune airport...   neutral       0.0   \n",
       "...                                                   ...       ...       ...   \n",
       "358198  today column afghan people us b bombing writte...   neutral       0.0   \n",
       "358199  taliban seizes eighth afghan provincial capita...  negative      -0.3   \n",
       "201151      look closely negotiations agreements talib...  negative       0.0   \n",
       "201152      americans negotiated taliban tapi pipeline...  positive       0.2   \n",
       "201153                                    httpstcoyiibafh  negative       0.0   \n",
       "\n",
       "                            hashtags               source  \n",
       "270516                         FALSE                  NaN  \n",
       "134668                         FALSE                  NaN  \n",
       "23069                            NaN   twitter for iphone  \n",
       "23081                            NaN  twitter for android  \n",
       "39023   ['airport', 'pune', 'kabul']            tweetdeck  \n",
       "...                              ...                  ...  \n",
       "358198       ['afghan', 'us', 'b52']  twitter for android  \n",
       "358199             ['afghan', 'war']  twitter for android  \n",
       "201151                           NaN  twitter for android  \n",
       "201152                   ['taliban']  twitter for android  \n",
       "201153                           NaN      twitter web app  \n",
       "\n",
       "[361535 rows x 7 columns]"
      ]
     },
     "execution_count": 16,
     "metadata": {},
     "output_type": "execute_result"
    }
   ],
   "source": [
    "# Sort by date\n",
    "Afghan_tweets.sort_values('date',ascending=False)"
   ]
  },
  {
   "cell_type": "code",
   "execution_count": 17,
   "metadata": {},
   "outputs": [
    {
     "data": {
      "text/html": [
       "<div>\n",
       "<style scoped>\n",
       "    .dataframe tbody tr th:only-of-type {\n",
       "        vertical-align: middle;\n",
       "    }\n",
       "\n",
       "    .dataframe tbody tr th {\n",
       "        vertical-align: top;\n",
       "    }\n",
       "\n",
       "    .dataframe thead th {\n",
       "        text-align: right;\n",
       "    }\n",
       "</style>\n",
       "<table border=\"1\" class=\"dataframe\">\n",
       "  <thead>\n",
       "    <tr style=\"text-align: right;\">\n",
       "      <th></th>\n",
       "      <th>user_location</th>\n",
       "      <th>date</th>\n",
       "      <th>text</th>\n",
       "      <th>sentiment</th>\n",
       "      <th>polarity</th>\n",
       "      <th>hashtags</th>\n",
       "      <th>source</th>\n",
       "    </tr>\n",
       "  </thead>\n",
       "  <tbody>\n",
       "    <tr>\n",
       "      <th>23069</th>\n",
       "      <td>leeds</td>\n",
       "      <td>8/19/2021 9:59</td>\n",
       "      <td>knew taliban start people shoot kabul looters ...</td>\n",
       "      <td>neutral</td>\n",
       "      <td>0.0</td>\n",
       "      <td>NaN</td>\n",
       "      <td>twitter for iphone</td>\n",
       "    </tr>\n",
       "    <tr>\n",
       "      <th>23080</th>\n",
       "      <td>NaN</td>\n",
       "      <td>8/19/2021 9:59</td>\n",
       "      <td>peoples faith publicinquiry sort questions...</td>\n",
       "      <td>neutral</td>\n",
       "      <td>0.0</td>\n",
       "      <td>['publicinquiry']</td>\n",
       "      <td>twitter for ipad</td>\n",
       "    </tr>\n",
       "    <tr>\n",
       "      <th>39023</th>\n",
       "      <td>pune, india</td>\n",
       "      <td>8/19/2021 9:59</td>\n",
       "      <td>guess airport  picture looks like pune airport...</td>\n",
       "      <td>neutral</td>\n",
       "      <td>0.0</td>\n",
       "      <td>['airport', 'pune', 'kabul']</td>\n",
       "      <td>tweetdeck</td>\n",
       "    </tr>\n",
       "    <tr>\n",
       "      <th>39022</th>\n",
       "      <td>NaN</td>\n",
       "      <td>8/19/2021 9:59</td>\n",
       "      <td>panjshirresistance againstthetaliban afghanist...</td>\n",
       "      <td>neutral</td>\n",
       "      <td>0.0</td>\n",
       "      <td>['panjshirresistance', 'againstthetaliban', 'a...</td>\n",
       "      <td>twitter web app</td>\n",
       "    </tr>\n",
       "    <tr>\n",
       "      <th>39021</th>\n",
       "      <td>quetta pakistan</td>\n",
       "      <td>8/19/2021 9:59</td>\n",
       "      <td>westerners r afraid terrorism afgbut r concern...</td>\n",
       "      <td>negative</td>\n",
       "      <td>-0.6</td>\n",
       "      <td>['terrorism', 'islamic']</td>\n",
       "      <td>twitter for android</td>\n",
       "    </tr>\n",
       "    <tr>\n",
       "      <th>...</th>\n",
       "      <td>...</td>\n",
       "      <td>...</td>\n",
       "      <td>...</td>\n",
       "      <td>...</td>\n",
       "      <td>...</td>\n",
       "      <td>...</td>\n",
       "      <td>...</td>\n",
       "    </tr>\n",
       "    <tr>\n",
       "      <th>358198</th>\n",
       "      <td>karachi, pakistan</td>\n",
       "      <td>8/11/2021 0:09</td>\n",
       "      <td>today column afghan people us b bombing writte...</td>\n",
       "      <td>neutral</td>\n",
       "      <td>0.0</td>\n",
       "      <td>['afghan', 'us', 'b52']</td>\n",
       "      <td>twitter for android</td>\n",
       "    </tr>\n",
       "    <tr>\n",
       "      <th>358199</th>\n",
       "      <td>kanata</td>\n",
       "      <td>8/11/2021 0:08</td>\n",
       "      <td>taliban seizes eighth afghan provincial capita...</td>\n",
       "      <td>negative</td>\n",
       "      <td>-0.3</td>\n",
       "      <td>['afghan', 'war']</td>\n",
       "      <td>twitter for android</td>\n",
       "    </tr>\n",
       "    <tr>\n",
       "      <th>201151</th>\n",
       "      <td>karachi, pakistan</td>\n",
       "      <td>8/11/2021 0:06</td>\n",
       "      <td>look closely negotiations agreements talib...</td>\n",
       "      <td>negative</td>\n",
       "      <td>0.0</td>\n",
       "      <td>NaN</td>\n",
       "      <td>twitter for android</td>\n",
       "    </tr>\n",
       "    <tr>\n",
       "      <th>201152</th>\n",
       "      <td>luton, england</td>\n",
       "      <td>8/11/2021 0:04</td>\n",
       "      <td>americans negotiated taliban tapi pipeline...</td>\n",
       "      <td>positive</td>\n",
       "      <td>0.2</td>\n",
       "      <td>['taliban']</td>\n",
       "      <td>twitter for android</td>\n",
       "    </tr>\n",
       "    <tr>\n",
       "      <th>201153</th>\n",
       "      <td>ottawa, ontario</td>\n",
       "      <td>8/11/2021 0:02</td>\n",
       "      <td>httpstcoyiibafh</td>\n",
       "      <td>negative</td>\n",
       "      <td>0.0</td>\n",
       "      <td>NaN</td>\n",
       "      <td>twitter web app</td>\n",
       "    </tr>\n",
       "  </tbody>\n",
       "</table>\n",
       "<p>361533 rows × 7 columns</p>\n",
       "</div>"
      ],
      "text/plain": [
       "            user_location            date  \\\n",
       "23069               leeds  8/19/2021 9:59   \n",
       "23080                 NaN  8/19/2021 9:59   \n",
       "39023         pune, india  8/19/2021 9:59   \n",
       "39022                 NaN  8/19/2021 9:59   \n",
       "39021     quetta pakistan  8/19/2021 9:59   \n",
       "...                   ...             ...   \n",
       "358198  karachi, pakistan  8/11/2021 0:09   \n",
       "358199             kanata  8/11/2021 0:08   \n",
       "201151  karachi, pakistan  8/11/2021 0:06   \n",
       "201152     luton, england  8/11/2021 0:04   \n",
       "201153    ottawa, ontario  8/11/2021 0:02   \n",
       "\n",
       "                                                     text sentiment  polarity  \\\n",
       "23069   knew taliban start people shoot kabul looters ...   neutral       0.0   \n",
       "23080       peoples faith publicinquiry sort questions...   neutral       0.0   \n",
       "39023   guess airport  picture looks like pune airport...   neutral       0.0   \n",
       "39022   panjshirresistance againstthetaliban afghanist...   neutral       0.0   \n",
       "39021   westerners r afraid terrorism afgbut r concern...  negative      -0.6   \n",
       "...                                                   ...       ...       ...   \n",
       "358198  today column afghan people us b bombing writte...   neutral       0.0   \n",
       "358199  taliban seizes eighth afghan provincial capita...  negative      -0.3   \n",
       "201151      look closely negotiations agreements talib...  negative       0.0   \n",
       "201152      americans negotiated taliban tapi pipeline...  positive       0.2   \n",
       "201153                                    httpstcoyiibafh  negative       0.0   \n",
       "\n",
       "                                                 hashtags               source  \n",
       "23069                                                 NaN   twitter for iphone  \n",
       "23080                                   ['publicinquiry']     twitter for ipad  \n",
       "39023                        ['airport', 'pune', 'kabul']            tweetdeck  \n",
       "39022   ['panjshirresistance', 'againstthetaliban', 'a...      twitter web app  \n",
       "39021                            ['terrorism', 'islamic']  twitter for android  \n",
       "...                                                   ...                  ...  \n",
       "358198                            ['afghan', 'us', 'b52']  twitter for android  \n",
       "358199                                  ['afghan', 'war']  twitter for android  \n",
       "201151                                                NaN  twitter for android  \n",
       "201152                                        ['taliban']  twitter for android  \n",
       "201153                                                NaN      twitter web app  \n",
       "\n",
       "[361533 rows x 7 columns]"
      ]
     },
     "execution_count": 17,
     "metadata": {},
     "output_type": "execute_result"
    }
   ],
   "source": [
    "# Drop incorrect data\n",
    "Afghan_tweets = Afghan_tweets[Afghan_tweets.date != \"['afghanistan']\"]\n",
    "Afghan_tweets.sort_values('date',ascending=False)"
   ]
  },
  {
   "cell_type": "code",
   "execution_count": 18,
   "metadata": {},
   "outputs": [
    {
     "data": {
      "text/plain": [
       "dtype('O')"
      ]
     },
     "execution_count": 18,
     "metadata": {},
     "output_type": "execute_result"
    }
   ],
   "source": [
    "# date column type\n",
    "Afghan_tweets.date.dtypes"
   ]
  },
  {
   "cell_type": "code",
   "execution_count": 19,
   "metadata": {},
   "outputs": [],
   "source": [
    "# Convert to date \n",
    "Afghan_tweets.date = pd.to_datetime(Afghan_tweets.date)"
   ]
  },
  {
   "cell_type": "code",
   "execution_count": 20,
   "metadata": {},
   "outputs": [
    {
     "data": {
      "text/html": [
       "<div>\n",
       "<style scoped>\n",
       "    .dataframe tbody tr th:only-of-type {\n",
       "        vertical-align: middle;\n",
       "    }\n",
       "\n",
       "    .dataframe tbody tr th {\n",
       "        vertical-align: top;\n",
       "    }\n",
       "\n",
       "    .dataframe thead th {\n",
       "        text-align: right;\n",
       "    }\n",
       "</style>\n",
       "<table border=\"1\" class=\"dataframe\">\n",
       "  <thead>\n",
       "    <tr style=\"text-align: right;\">\n",
       "      <th></th>\n",
       "      <th>user_location</th>\n",
       "      <th>date</th>\n",
       "      <th>text</th>\n",
       "      <th>sentiment</th>\n",
       "      <th>polarity</th>\n",
       "      <th>hashtags</th>\n",
       "      <th>source</th>\n",
       "      <th>day</th>\n",
       "      <th>hour</th>\n",
       "      <th>Day-Hour</th>\n",
       "    </tr>\n",
       "  </thead>\n",
       "  <tbody>\n",
       "    <tr>\n",
       "      <th>0</th>\n",
       "      <td>NaN</td>\n",
       "      <td>2021-08-19 23:59:00</td>\n",
       "      <td>cant recall told troops afghanistan falsely ...</td>\n",
       "      <td>negative</td>\n",
       "      <td>-0.300</td>\n",
       "      <td>['afghanistan']</td>\n",
       "      <td>twitter for iphone</td>\n",
       "      <td>19</td>\n",
       "      <td>23</td>\n",
       "      <td>19-23</td>\n",
       "    </tr>\n",
       "    <tr>\n",
       "      <th>1</th>\n",
       "      <td>washington, dc</td>\n",
       "      <td>2021-08-19 23:59:00</td>\n",
       "      <td>shocker afghanistan taliban carrying doorto do...</td>\n",
       "      <td>neutral</td>\n",
       "      <td>0.000</td>\n",
       "      <td>['afghanistan']</td>\n",
       "      <td>twitter for ipad</td>\n",
       "      <td>19</td>\n",
       "      <td>23</td>\n",
       "      <td>19-23</td>\n",
       "    </tr>\n",
       "    <tr>\n",
       "      <th>2</th>\n",
       "      <td>NaN</td>\n",
       "      <td>2021-08-19 23:59:00</td>\n",
       "      <td>drop bass bombs big homie afghanistan talibans</td>\n",
       "      <td>negative</td>\n",
       "      <td>-0.075</td>\n",
       "      <td>['afghanistan', 'talibans']</td>\n",
       "      <td>twitter for iphone</td>\n",
       "      <td>19</td>\n",
       "      <td>23</td>\n",
       "      <td>19-23</td>\n",
       "    </tr>\n",
       "    <tr>\n",
       "      <th>3</th>\n",
       "      <td>midnapore, west bengal, uk outreach</td>\n",
       "      <td>2021-08-19 23:59:00</td>\n",
       "      <td>burqa prices risen markets afghanistans provin...</td>\n",
       "      <td>negative</td>\n",
       "      <td>-0.250</td>\n",
       "      <td>['afghanistan']</td>\n",
       "      <td>twitter web app</td>\n",
       "      <td>19</td>\n",
       "      <td>23</td>\n",
       "      <td>19-23</td>\n",
       "    </tr>\n",
       "    <tr>\n",
       "      <th>4</th>\n",
       "      <td>york, england</td>\n",
       "      <td>2021-08-19 23:59:00</td>\n",
       "      <td>uk carved afghanistan s heroin minorities mili...</td>\n",
       "      <td>neutral</td>\n",
       "      <td>0.000</td>\n",
       "      <td>['afghanistan']</td>\n",
       "      <td>twitter for ipad</td>\n",
       "      <td>19</td>\n",
       "      <td>23</td>\n",
       "      <td>19-23</td>\n",
       "    </tr>\n",
       "  </tbody>\n",
       "</table>\n",
       "</div>"
      ],
      "text/plain": [
       "                          user_location                date  \\\n",
       "0                                   NaN 2021-08-19 23:59:00   \n",
       "1                        washington, dc 2021-08-19 23:59:00   \n",
       "2                                   NaN 2021-08-19 23:59:00   \n",
       "3  midnapore, west bengal, uk outreach  2021-08-19 23:59:00   \n",
       "4                         york, england 2021-08-19 23:59:00   \n",
       "\n",
       "                                                text sentiment  polarity  \\\n",
       "0    cant recall told troops afghanistan falsely ...  negative    -0.300   \n",
       "1  shocker afghanistan taliban carrying doorto do...   neutral     0.000   \n",
       "2     drop bass bombs big homie afghanistan talibans  negative    -0.075   \n",
       "3  burqa prices risen markets afghanistans provin...  negative    -0.250   \n",
       "4  uk carved afghanistan s heroin minorities mili...   neutral     0.000   \n",
       "\n",
       "                      hashtags              source  day  hour Day-Hour  \n",
       "0              ['afghanistan']  twitter for iphone   19    23    19-23  \n",
       "1              ['afghanistan']    twitter for ipad   19    23    19-23  \n",
       "2  ['afghanistan', 'talibans']  twitter for iphone   19    23    19-23  \n",
       "3              ['afghanistan']     twitter web app   19    23    19-23  \n",
       "4              ['afghanistan']    twitter for ipad   19    23    19-23  "
      ]
     },
     "execution_count": 20,
     "metadata": {},
     "output_type": "execute_result"
    }
   ],
   "source": [
    "# Day, hour variables creation\n",
    "Afghan_tweets['day'] = Afghan_tweets.date.dt.day\n",
    "Afghan_tweets['hour'] = Afghan_tweets.date.dt.hour\n",
    "Afghan_tweets[\"Day-Hour\"] = Afghan_tweets['day'].map(str).str.cat(others=[Afghan_tweets['hour'].map(str)], sep='-')\n",
    "Afghan_tweets.head()"
   ]
  },
  {
   "cell_type": "code",
   "execution_count": 58,
   "metadata": {},
   "outputs": [],
   "source": [
    "# Number of tweets per hour\n",
    "import collections\n",
    "d = dict(Afghan_tweets[\"Day-Hour\"].value_counts())\n",
    "od = collections.OrderedDict(sorted(d.items()))\n",
    "# Number of positive tweets per hour\n",
    "d = dict(Afghan_tweets[Afghan_tweets.sentiment == 'positive'][\"Day-Hour\"].value_counts())\n",
    "od_p = collections.OrderedDict(sorted(d.items()))\n",
    "# Number of negative tweets per hour\n",
    "d = dict(Afghan_tweets[Afghan_tweets.sentiment == 'negative'][\"Day-Hour\"].value_counts())\n",
    "od_n = collections.OrderedDict(sorted(d.items()))"
   ]
  },
  {
   "cell_type": "code",
   "execution_count": 31,
   "metadata": {},
   "outputs": [],
   "source": [
    "days = [i for i in range(11,20)]\n",
    "hours = [i for i in range(0,24)]"
   ]
  },
  {
   "cell_type": "code",
   "execution_count": 63,
   "metadata": {},
   "outputs": [
    {
     "name": "stdout",
     "output_type": "stream",
     "text": [
      "{'11-0': 27, '11-1': 59, '11-2': 60, '11-3': 87, '11-4': 73, '11-5': 106, '11-6': 131, '11-7': 139, '11-8': 132, '11-9': 133, '11-10': 116, '11-11': 162, '11-12': 173, '11-13': 165, '11-14': 175, '11-15': 182, '11-16': 150, '11-17': 149, '11-18': 108, '11-19': 118, '11-20': 87, '11-21': 97, '11-22': 67, '11-23': 50, '12-0': 37, '12-1': 42, '12-2': 62, '12-3': 87, '12-4': 108, '12-5': 126, '12-6': 150, '12-7': 175, '12-8': 143, '12-9': 166, '12-10': 215, '12-11': 206, '12-12': 199, '12-13': 171, '12-14': 59, '12-15': 47, '12-16': 54, '12-17': 54, '12-18': 71, '12-19': 72, '12-20': 55, '12-21': 71, '12-22': 58, '12-23': 31, '13-0': 17, '13-1': 39, '13-2': 38, '13-3': 37, '13-4': 68, '13-5': 62, '13-6': 70, '13-7': 96, '13-8': 78, '13-9': 93, '13-10': 91, '13-11': 118, '13-12': 133, '13-13': 124, '13-14': 108, '13-15': 120, '13-16': 88, '13-17': 107, '13-18': 136, '13-19': 76, '13-20': 85, '13-21': 83, '13-22': 49, '13-23': 44, '14-0': 50, '14-1': 55, '14-2': 57, '14-3': 166, '14-4': 290, '14-5': 248, '14-6': 318, '14-7': 327, '14-8': 345, '14-9': 415, '14-10': 352, '14-11': 414, '14-12': 343, '14-13': 315, '14-14': 113, '14-15': 143, '14-16': 120, '14-17': 149, '14-18': 154, '14-19': 135, '14-20': 170, '14-21': 245, '14-22': 212, '14-23': 142, '15-0': 110, '15-1': 109, '15-2': 115, '15-3': 142, '15-4': 140, '15-5': 163, '15-6': 240, '15-7': 328, '15-8': 731, '15-9': 935, '15-10': 1071, '15-11': 2173, '15-12': 2152, '15-13': 2248, '15-14': 1801, '15-15': 700, '15-16': 933, '15-17': 1165, '15-18': 1212, '15-19': 1074, '15-20': 1180, '15-21': 1488, '15-22': 2444, '15-23': 1956, '16-0': 1603, '16-1': 1829, '16-2': 1094, '16-3': 1560, '16-4': 1742, '16-5': 1994, '16-6': 2433, '16-7': 4131, '16-8': 4014, '16-9': 2521, '16-10': 2147, '16-11': 1877, '16-12': 1783, '16-13': 3086, '16-14': 2197, '16-15': 2095, '16-16': 3315, '16-17': 3838, '16-18': 3644, '16-19': 2903, '16-20': 2719, '16-21': 1390, '16-22': 933, '16-23': 1844, '17-0': 0, '17-1': 0, '17-2': 0, '17-3': 0, '17-4': 6, '17-5': 502, '17-6': 605, '17-7': 492, '17-8': 1352, '17-9': 2259, '17-10': 555, '17-11': 706, '17-12': 628, '17-13': 720, '17-14': 558, '17-15': 514, '17-16': 493, '17-17': 676, '17-18': 774, '17-19': 521, '17-20': 840, '17-21': 421, '17-22': 335, '17-23': 295, '18-0': 26, '18-1': 20, '18-2': 29, '18-3': 24, '18-4': 22, '18-5': 24, '18-6': 34, '18-7': 44, '18-8': 51, '18-9': 43, '18-10': 39, '18-11': 50, '18-12': 36, '18-13': 37, '18-14': 75, '18-15': 79, '18-16': 130, '18-17': 209, '18-18': 158, '18-19': 166, '18-20': 154, '18-21': 122, '18-22': 89, '18-23': 80, '19-0': 55, '19-1': 73, '19-2': 84, '19-3': 77, '19-4': 68, '19-5': 165, '19-6': 270, '19-7': 336, '19-8': 360, '19-9': 394, '19-10': 432, '19-11': 473, '19-12': 1144, '19-13': 815, '19-14': 651, '19-15': 741, '19-16': 419, '19-17': 422, '19-18': 459, '19-19': 397, '19-20': 352, '19-21': 318, '19-22': 289, '19-23': 237}\n"
     ]
    }
   ],
   "source": [
    "tweets_per_hours = {}\n",
    "pos_tweets_per_hours = {}\n",
    "neg_tweets_per_hours = {}\n",
    "for day in days:\n",
    "    for hour in hours:\n",
    "        if str(day)+\"-\"+str(hour) not in od.keys():\n",
    "            tweets_per_hours[str(day)+\"-\"+str(hour)] = 0\n",
    "        else:\n",
    "            tweets_per_hours[str(day)+\"-\"+str(hour)] = od[str(day)+\"-\"+str(hour)]\n",
    "        if str(day)+\"-\"+str(hour) not in od_p.keys():\n",
    "            pos_tweets_per_hours[str(day)+\"-\"+str(hour)] = 0\n",
    "        else:\n",
    "            pos_tweets_per_hours[str(day)+\"-\"+str(hour)] = od_p[str(day)+\"-\"+str(hour)]\n",
    "        if str(day)+\"-\"+str(hour) not in od_n.keys():\n",
    "            neg_tweets_per_hours[str(day)+\"-\"+str(hour)] = 0\n",
    "        else:\n",
    "            neg_tweets_per_hours[str(day)+\"-\"+str(hour)] = od_n[str(day)+\"-\"+str(hour)]\n",
    "print(neg_tweets_per_hours)"
   ]
  },
  {
   "cell_type": "code",
   "execution_count": 65,
   "metadata": {},
   "outputs": [],
   "source": [
    "def Plot_tweet_evolution(tweetdic, title = \"Tweets evolution\"):\n",
    "    # Set default figure size.\n",
    "    plt.rcParams['figure.figsize'] = (15, 6)\n",
    "\n",
    "    fig, ax = plt.subplots()\n",
    "\n",
    "    ax.bar(\n",
    "        x=list(tweetdic.keys()),\n",
    "        height=list(tweetdic.values())\n",
    "    )\n",
    "\n",
    "    # First, let's remove the top, right and left spines (figure borders)\n",
    "    # which really aren't necessary for a bar chart.\n",
    "    # Also, make the bottom spine gray instead of black.\n",
    "    ax.spines['top'].set_visible(False)\n",
    "    ax.spines['right'].set_visible(False)\n",
    "    ax.spines['left'].set_visible(False)\n",
    "    ax.spines['bottom'].set_color('#DDDDDD')\n",
    "\n",
    "    # Second, remove the ticks as well.\n",
    "    ax.tick_params(bottom=False, left=False)\n",
    "\n",
    "    # Third, add a horizontal grid (but keep the vertical grid hidden).\n",
    "    # Color the lines a light gray as well.\n",
    "    ax.set_axisbelow(True)\n",
    "    ax.yaxis.grid(True, color='#EEEEEE')\n",
    "    ax.xaxis.grid(False)\n",
    "\n",
    "    # Axis names and text orientation\n",
    "    ax.set_xlabel('Day-Hour')\n",
    "    ax.set_ylabel('Tweets')\n",
    "    xticks = [str(i).split('-')[0]+'/08' if '-0' in str(i) else '' for i in tweets_per_hours.keys()]\n",
    "    plt.xticks(list(tweetdic.keys()),xticks)\n",
    "    plt.xticks(rotation=45)\n",
    "    plt.title(\"Tweet evolution\")\n",
    "    # Make the chart fill out the figure better.\n",
    "    fig.tight_layout()"
   ]
  },
  {
   "cell_type": "code",
   "execution_count": 66,
   "metadata": {},
   "outputs": [
    {
     "data": {
      "image/png": "[encoded data removed]",
      "text/plain": [
       "<Figure size 1080x432 with 1 Axes>"
      ]
     },
     "metadata": {
      "needs_background": "light"
     },
     "output_type": "display_data"
    }
   ],
   "source": [
    "Plot_tweet_evolution(tweets_per_hours)"
   ]
  },
  {
   "cell_type": "code",
   "execution_count": 68,
   "metadata": {},
   "outputs": [
    {
     "data": {
      "image/png": "[encoded data removed]",
      "text/plain": [
       "<Figure size 1080x432 with 1 Axes>"
      ]
     },
     "metadata": {
      "needs_background": "light"
     },
     "output_type": "display_data"
    }
   ],
   "source": [
    "Plot_tweet_evolution(pos_tweets_per_hours,\"Positive tweets evolution\")"
   ]
  },
  {
   "cell_type": "code",
   "execution_count": 70,
   "metadata": {},
   "outputs": [
    {
     "data": {
      "image/png": "[encoded data removed]",
      "text/plain": [
       "<Figure size 1080x432 with 1 Axes>"
      ]
     },
     "metadata": {
      "needs_background": "light"
     },
     "output_type": "display_data"
    }
   ],
   "source": [
    "Plot_tweet_evolution(neg_tweets_per_hours,\"Negative tweets evolution\")"
   ]
  },
  {
   "cell_type": "code",
   "execution_count": 72,
   "metadata": {},
   "outputs": [
    {
     "data": {
      "image/png": "[encoded data removed]",
      "text/plain": [
       "<Figure size 1080x432 with 1 Axes>"
      ]
     },
     "metadata": {
      "needs_background": "light"
     },
     "output_type": "display_data"
    }
   ],
   "source": [
    "# Set default figure size.\n",
    "plt.rcParams['figure.figsize'] = (15, 6)\n",
    "fig, ax = plt.subplots()\n",
    "\n",
    "ax.bar(\n",
    "    x=list(tweets_per_hours.keys()),\n",
    "    height=list(pos_tweets_per_hours.values())\n",
    ")\n",
    "ax.bar(\n",
    "    x=list(tweets_per_hours.keys()),\n",
    "    height=list(neg_tweets_per_hours.values()),\n",
    "    bottom=list(pos_tweets_per_hours.values())\n",
    ")\n",
    "\n",
    "# First, let's remove the top, right and left spines (figure borders)\n",
    "# which really aren't necessary for a bar chart.\n",
    "# Also, make the bottom spine gray instead of black.\n",
    "ax.spines['top'].set_visible(False)\n",
    "ax.spines['right'].set_visible(False)\n",
    "ax.spines['left'].set_visible(False)\n",
    "ax.spines['bottom'].set_color('#DDDDDD')\n",
    "\n",
    "# Second, remove the ticks as well.\n",
    "ax.tick_params(bottom=False, left=False)\n",
    "\n",
    "# Third, add a horizontal grid (but keep the vertical grid hidden).\n",
    "# Color the lines a light gray as well.\n",
    "ax.set_axisbelow(True)\n",
    "ax.yaxis.grid(True, color='#EEEEEE')\n",
    "ax.xaxis.grid(False)\n",
    "\n",
    "# Axis names and text orientation\n",
    "ax.set_xlabel('Day-Hour')\n",
    "ax.set_ylabel('Tweets')\n",
    "xticks = [str(i).split('-')[0]+'/08' if '-0' in str(i) else '' for i in tweets_per_hours.keys()]\n",
    "plt.xticks(list(tweets_per_hours.keys()),xticks)\n",
    "plt.xticks(rotation=45)\n",
    "plt.title(\"Positive + negative tweets evolution\")\n",
    "# Make the chart fill out the figure better.\n",
    "fig.tight_layout()"
   ]
  },
  {
   "cell_type": "code",
   "execution_count": 80,
   "metadata": {},
   "outputs": [
    {
     "data": {
      "image/png": "[encoded data removed]",
      "text/plain": [
       "<Figure size 576x288 with 1 Axes>"
      ]
     },
     "metadata": {},
     "output_type": "display_data"
    }
   ],
   "source": [
    "# Overall sentiment\n",
    "pie, ax = plt.subplots(figsize=[8,4])\n",
    "plt.pie(x=Afghan_tweets.groupby(\"sentiment\")[\"sentiment\"].count(), autopct=\"%.1f%%\",\n",
    "        labels=Afghan_tweets.groupby(\"sentiment\")[\"sentiment\"].count().index, pctdistance=0.5)\n",
    "plt.title(\"Sentiment\", fontsize=14)\n",
    "plt.show()"
   ]
  },
  {
   "cell_type": "code",
   "execution_count": 83,
   "metadata": {},
   "outputs": [
    {
     "data": {
      "image/png": "[encoded data removed]",
      "text/plain": [
       "<Figure size 720x720 with 9 Axes>"
      ]
     },
     "metadata": {},
     "output_type": "display_data"
    }
   ],
   "source": [
    "pie, axes = plt.subplots(3,3,figsize=[10,10])\n",
    "pie.suptitle('Sentiment', fontsize=16)\n",
    "axes = axes.flatten()\n",
    "for axe,day in zip(axes,days):\n",
    "    axe.pie(x=Afghan_tweets[Afghan_tweets.day==day].groupby(\"sentiment\")[\"sentiment\"].count(), autopct=\"%.1f%%\", \n",
    "            labels=Afghan_tweets[Afghan_tweets.day==day].groupby(\"sentiment\")[\"sentiment\"].count().index, pctdistance=0.5)\n",
    "    axe.set_title(str(day)+\"/08/2021\", fontsize=14)\n",
    "plt.show()"
   ]
  },
  {
   "cell_type": "code",
   "execution_count": null,
   "metadata": {},
   "outputs": [],
   "source": []
  }
 ],
 "metadata": {
  "kernelspec": {
   "display_name": "Python 3 (ipykernel)",
   "language": "python",
   "name": "python3"
  },
  "language_info": {
   "codemirror_mode": {
    "name": "ipython",
    "version": 3
   },
   "file_extension": ".py",
   "mimetype": "text/x-python",
   "name": "python",
   "nbconvert_exporter": "python",
   "pygments_lexer": "ipython3",
   "version": "3.7.11"
  }
 },
 "nbformat": 4,
 "nbformat_minor": 4
}
